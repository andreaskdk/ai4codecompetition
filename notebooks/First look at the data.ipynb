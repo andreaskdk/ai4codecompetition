{
 "cells": [
  {
   "cell_type": "code",
   "execution_count": 2,
   "id": "1cb81829",
   "metadata": {},
   "outputs": [],
   "source": [
    "import json\n",
    "from pathlib import Path\n",
    "import pandas as pd\n",
    "import os"
   ]
  },
  {
   "cell_type": "code",
   "execution_count": 3,
   "outputs": [],
   "source": [
    "data_dir = '../data'\n",
    "\n",
    "orders=pd.read_csv(data_dir+\"/train_orders.csv\")\n",
    "ancestors=pd.read_csv(data_dir+\"/train_ancestors.csv\")\n",
    "sample_submission=pd.read_csv(data_dir+\"/sample_submission.csv\")\n",
    "\n",
    "orders_map=dict(orders[[\"id\", \"cell_order\"]].values)"
   ],
   "metadata": {
    "collapsed": false,
    "pycharm": {
     "name": "#%%\n"
    }
   }
  },
  {
   "cell_type": "code",
   "execution_count": 4,
   "outputs": [],
   "source": [
    "train_data={}\n",
    "\n",
    "for filename in os.listdir(data_dir+\"/train\")[:1000]:\n",
    "    with open(data_dir+\"/train/\"+filename, \"r\") as f:\n",
    "        train_data[filename.split(\".\")[0]]=json.loads(f.read())\n",
    "\n",
    "validation_data={}\n",
    "for filename in os.listdir(data_dir+\"/train\")[1000:1200]:\n",
    "    with open(data_dir+\"/train/\"+filename, \"r\") as f:\n",
    "        validation_data[filename.split(\".\")[0]]=json.loads(f.read())"
   ],
   "metadata": {
    "collapsed": false,
    "pycharm": {
     "name": "#%%\n"
    }
   }
  },
  {
   "cell_type": "code",
   "execution_count": 5,
   "outputs": [],
   "source": [
    "test_data={}\n",
    "\n",
    "for filename in os.listdir(data_dir+\"/test\"):\n",
    "    with open(data_dir+\"/test/\"+filename, \"r\") as f:\n",
    "        test_data[filename.split(\".\")[0]]=json.loads(f.read())"
   ],
   "metadata": {
    "collapsed": false,
    "pycharm": {
     "name": "#%%\n"
    }
   }
  },
  {
   "cell_type": "code",
   "execution_count": 6,
   "outputs": [],
   "source": [
    "train=[]\n",
    "for key, notebook in train_data.items():\n",
    "    notebook_len=len(orders_map[key])\n",
    "    for pos, cell_id in enumerate(orders_map[key].split()):\n",
    "        train.append({\"notebook_id\": key, \"notebook_length\": notebook_len, \"cell_id\": cell_id, \"cell_position\": pos, \"source\": train_data[key][\"source\"][cell_id], \"cell_type\": train_data[key][\"cell_type\"][cell_id]})\n",
    "train_df=pd.DataFrame(train)"
   ],
   "metadata": {
    "collapsed": false,
    "pycharm": {
     "name": "#%%\n"
    }
   }
  },
  {
   "cell_type": "code",
   "execution_count": 7,
   "outputs": [],
   "source": [
    "from collections import Counter\n",
    "from operator import itemgetter\n",
    "\n",
    "counts=Counter(\" \".join(train_df[\"source\"].values).split())"
   ],
   "metadata": {
    "collapsed": false,
    "pycharm": {
     "name": "#%%\n"
    }
   }
  },
  {
   "cell_type": "code",
   "execution_count": 8,
   "outputs": [],
   "source": [
    "for w, c in list(reversed(sorted(counts.items(), key=itemgetter(1))))[:10]:\n",
    "    train_df[\"c_\"+w]=train_df[\"source\"].apply(lambda s: 1 if w in set(s.split()) else 0)"
   ],
   "metadata": {
    "collapsed": false,
    "pycharm": {
     "name": "#%%\n"
    }
   }
  },
  {
   "cell_type": "code",
   "execution_count": 13,
   "outputs": [],
   "source": [
    "train_df[\"relative_pos\"]=train_df[\"cell_position\"]/train_df[\"notebook_length\"]"
   ],
   "metadata": {
    "collapsed": false,
    "pycharm": {
     "name": "#%%\n"
    }
   }
  },
  {
   "cell_type": "code",
   "execution_count": 15,
   "outputs": [
    {
     "data": {
      "text/plain": "          notebook_id  notebook_length   cell_id  cell_position  \\\n0      3348e77d273b6a              260  5c3f2239              0   \n1      3348e77d273b6a              260  f94e96ac              1   \n2      3348e77d273b6a              260  7fc86fbd              2   \n3      3348e77d273b6a              260  88f4b7f1              3   \n4      3348e77d273b6a              260  dc5295d0              4   \n...               ...              ...       ...            ...   \n44178  516bba488afaa9              413  8fc8f8d9             41   \n44179  516bba488afaa9              413  7123c6c1             42   \n44180  516bba488afaa9              413  19374cbd             43   \n44181  516bba488afaa9              413  7038c6a2             44   \n44182  516bba488afaa9              413  ea85fd85             45   \n\n                                                  source cell_type  c_=  \\\n0      # APTOS 2019 Blindness Detection\\n\\n### Datase...  markdown    0   \n1      # This Python 3 environment comes with many he...      code    0   \n2      import os\\nimport cv2\\nimport random\\nimport w...      code    0   \n3      train = pd.read_csv('../input/aptos2019-blindn...      code    1   \n4                                           train.head()      code    0   \n...                                                  ...       ...  ...   \n44178  #Grid Seach for XGboast\\nparams = {\\n        '...      code    1   \n44179         print(\"Best score is: \",gd_sr.best_score_)      code    0   \n44180  ## 6. DEPLOYMENT\\nThe deployment phase require...  markdown    0   \n44181  # If you saved model, you can use Pickle file....      code    0   \n44182  ## CONCLUSION\\nAs a result, using CRISP-DM met...  markdown    0   \n\n       c_the  c_#  c_of  c_in  c_import  c_to  c_for  c_and  c_from  \\\n0          1    1     1     1         0     1      1      1       1   \n1          1    1     0     1         1     1      1      0       0   \n2          0    0     0     0         1     0      0      0       1   \n3          0    0     0     0         0     0      0      0       0   \n4          0    0     0     0         0     0      0      0       0   \n...      ...  ...   ...   ...       ...   ...    ...    ...     ...   \n44178      0    0     0     0         0     0      1      0       0   \n44179      0    0     0     0         0     0      0      0       0   \n44180      1    0     1     0         0     1      1      1       0   \n44181      0    1     0     0         0     0      0      0       0   \n44182      1    0     1     0         0     0      0      0       0   \n\n       relative_pos  \n0          0.000000  \n1          0.003846  \n2          0.007692  \n3          0.011538  \n4          0.015385  \n...             ...  \n44178      0.099274  \n44179      0.101695  \n44180      0.104116  \n44181      0.106538  \n44182      0.108959  \n\n[44183 rows x 17 columns]",
      "text/html": "<div>\n<style scoped>\n    .dataframe tbody tr th:only-of-type {\n        vertical-align: middle;\n    }\n\n    .dataframe tbody tr th {\n        vertical-align: top;\n    }\n\n    .dataframe thead th {\n        text-align: right;\n    }\n</style>\n<table border=\"1\" class=\"dataframe\">\n  <thead>\n    <tr style=\"text-align: right;\">\n      <th></th>\n      <th>notebook_id</th>\n      <th>notebook_length</th>\n      <th>cell_id</th>\n      <th>cell_position</th>\n      <th>source</th>\n      <th>cell_type</th>\n      <th>c_=</th>\n      <th>c_the</th>\n      <th>c_#</th>\n      <th>c_of</th>\n      <th>c_in</th>\n      <th>c_import</th>\n      <th>c_to</th>\n      <th>c_for</th>\n      <th>c_and</th>\n      <th>c_from</th>\n      <th>relative_pos</th>\n    </tr>\n  </thead>\n  <tbody>\n    <tr>\n      <th>0</th>\n      <td>3348e77d273b6a</td>\n      <td>260</td>\n      <td>5c3f2239</td>\n      <td>0</td>\n      <td># APTOS 2019 Blindness Detection\\n\\n### Datase...</td>\n      <td>markdown</td>\n      <td>0</td>\n      <td>1</td>\n      <td>1</td>\n      <td>1</td>\n      <td>1</td>\n      <td>0</td>\n      <td>1</td>\n      <td>1</td>\n      <td>1</td>\n      <td>1</td>\n      <td>0.000000</td>\n    </tr>\n    <tr>\n      <th>1</th>\n      <td>3348e77d273b6a</td>\n      <td>260</td>\n      <td>f94e96ac</td>\n      <td>1</td>\n      <td># This Python 3 environment comes with many he...</td>\n      <td>code</td>\n      <td>0</td>\n      <td>1</td>\n      <td>1</td>\n      <td>0</td>\n      <td>1</td>\n      <td>1</td>\n      <td>1</td>\n      <td>1</td>\n      <td>0</td>\n      <td>0</td>\n      <td>0.003846</td>\n    </tr>\n    <tr>\n      <th>2</th>\n      <td>3348e77d273b6a</td>\n      <td>260</td>\n      <td>7fc86fbd</td>\n      <td>2</td>\n      <td>import os\\nimport cv2\\nimport random\\nimport w...</td>\n      <td>code</td>\n      <td>0</td>\n      <td>0</td>\n      <td>0</td>\n      <td>0</td>\n      <td>0</td>\n      <td>1</td>\n      <td>0</td>\n      <td>0</td>\n      <td>0</td>\n      <td>1</td>\n      <td>0.007692</td>\n    </tr>\n    <tr>\n      <th>3</th>\n      <td>3348e77d273b6a</td>\n      <td>260</td>\n      <td>88f4b7f1</td>\n      <td>3</td>\n      <td>train = pd.read_csv('../input/aptos2019-blindn...</td>\n      <td>code</td>\n      <td>1</td>\n      <td>0</td>\n      <td>0</td>\n      <td>0</td>\n      <td>0</td>\n      <td>0</td>\n      <td>0</td>\n      <td>0</td>\n      <td>0</td>\n      <td>0</td>\n      <td>0.011538</td>\n    </tr>\n    <tr>\n      <th>4</th>\n      <td>3348e77d273b6a</td>\n      <td>260</td>\n      <td>dc5295d0</td>\n      <td>4</td>\n      <td>train.head()</td>\n      <td>code</td>\n      <td>0</td>\n      <td>0</td>\n      <td>0</td>\n      <td>0</td>\n      <td>0</td>\n      <td>0</td>\n      <td>0</td>\n      <td>0</td>\n      <td>0</td>\n      <td>0</td>\n      <td>0.015385</td>\n    </tr>\n    <tr>\n      <th>...</th>\n      <td>...</td>\n      <td>...</td>\n      <td>...</td>\n      <td>...</td>\n      <td>...</td>\n      <td>...</td>\n      <td>...</td>\n      <td>...</td>\n      <td>...</td>\n      <td>...</td>\n      <td>...</td>\n      <td>...</td>\n      <td>...</td>\n      <td>...</td>\n      <td>...</td>\n      <td>...</td>\n      <td>...</td>\n    </tr>\n    <tr>\n      <th>44178</th>\n      <td>516bba488afaa9</td>\n      <td>413</td>\n      <td>8fc8f8d9</td>\n      <td>41</td>\n      <td>#Grid Seach for XGboast\\nparams = {\\n        '...</td>\n      <td>code</td>\n      <td>1</td>\n      <td>0</td>\n      <td>0</td>\n      <td>0</td>\n      <td>0</td>\n      <td>0</td>\n      <td>0</td>\n      <td>1</td>\n      <td>0</td>\n      <td>0</td>\n      <td>0.099274</td>\n    </tr>\n    <tr>\n      <th>44179</th>\n      <td>516bba488afaa9</td>\n      <td>413</td>\n      <td>7123c6c1</td>\n      <td>42</td>\n      <td>print(\"Best score is: \",gd_sr.best_score_)</td>\n      <td>code</td>\n      <td>0</td>\n      <td>0</td>\n      <td>0</td>\n      <td>0</td>\n      <td>0</td>\n      <td>0</td>\n      <td>0</td>\n      <td>0</td>\n      <td>0</td>\n      <td>0</td>\n      <td>0.101695</td>\n    </tr>\n    <tr>\n      <th>44180</th>\n      <td>516bba488afaa9</td>\n      <td>413</td>\n      <td>19374cbd</td>\n      <td>43</td>\n      <td>## 6. DEPLOYMENT\\nThe deployment phase require...</td>\n      <td>markdown</td>\n      <td>0</td>\n      <td>1</td>\n      <td>0</td>\n      <td>1</td>\n      <td>0</td>\n      <td>0</td>\n      <td>1</td>\n      <td>1</td>\n      <td>1</td>\n      <td>0</td>\n      <td>0.104116</td>\n    </tr>\n    <tr>\n      <th>44181</th>\n      <td>516bba488afaa9</td>\n      <td>413</td>\n      <td>7038c6a2</td>\n      <td>44</td>\n      <td># If you saved model, you can use Pickle file....</td>\n      <td>code</td>\n      <td>0</td>\n      <td>0</td>\n      <td>1</td>\n      <td>0</td>\n      <td>0</td>\n      <td>0</td>\n      <td>0</td>\n      <td>0</td>\n      <td>0</td>\n      <td>0</td>\n      <td>0.106538</td>\n    </tr>\n    <tr>\n      <th>44182</th>\n      <td>516bba488afaa9</td>\n      <td>413</td>\n      <td>ea85fd85</td>\n      <td>45</td>\n      <td>## CONCLUSION\\nAs a result, using CRISP-DM met...</td>\n      <td>markdown</td>\n      <td>0</td>\n      <td>1</td>\n      <td>0</td>\n      <td>1</td>\n      <td>0</td>\n      <td>0</td>\n      <td>0</td>\n      <td>0</td>\n      <td>0</td>\n      <td>0</td>\n      <td>0.108959</td>\n    </tr>\n  </tbody>\n</table>\n<p>44183 rows × 17 columns</p>\n</div>"
     },
     "execution_count": 15,
     "metadata": {},
     "output_type": "execute_result"
    }
   ],
   "source": [
    "train_df"
   ],
   "metadata": {
    "collapsed": false,
    "pycharm": {
     "name": "#%%\n"
    }
   }
  },
  {
   "cell_type": "code",
   "execution_count": 16,
   "outputs": [
    {
     "data": {
      "text/plain": "MLPRegressor(hidden_layer_sizes=12, max_iter=500, random_state=1)",
      "text/html": "<style>#sk-container-id-1 {color: black;background-color: white;}#sk-container-id-1 pre{padding: 0;}#sk-container-id-1 div.sk-toggleable {background-color: white;}#sk-container-id-1 label.sk-toggleable__label {cursor: pointer;display: block;width: 100%;margin-bottom: 0;padding: 0.3em;box-sizing: border-box;text-align: center;}#sk-container-id-1 label.sk-toggleable__label-arrow:before {content: \"▸\";float: left;margin-right: 0.25em;color: #696969;}#sk-container-id-1 label.sk-toggleable__label-arrow:hover:before {color: black;}#sk-container-id-1 div.sk-estimator:hover label.sk-toggleable__label-arrow:before {color: black;}#sk-container-id-1 div.sk-toggleable__content {max-height: 0;max-width: 0;overflow: hidden;text-align: left;background-color: #f0f8ff;}#sk-container-id-1 div.sk-toggleable__content pre {margin: 0.2em;color: black;border-radius: 0.25em;background-color: #f0f8ff;}#sk-container-id-1 input.sk-toggleable__control:checked~div.sk-toggleable__content {max-height: 200px;max-width: 100%;overflow: auto;}#sk-container-id-1 input.sk-toggleable__control:checked~label.sk-toggleable__label-arrow:before {content: \"▾\";}#sk-container-id-1 div.sk-estimator input.sk-toggleable__control:checked~label.sk-toggleable__label {background-color: #d4ebff;}#sk-container-id-1 div.sk-label input.sk-toggleable__control:checked~label.sk-toggleable__label {background-color: #d4ebff;}#sk-container-id-1 input.sk-hidden--visually {border: 0;clip: rect(1px 1px 1px 1px);clip: rect(1px, 1px, 1px, 1px);height: 1px;margin: -1px;overflow: hidden;padding: 0;position: absolute;width: 1px;}#sk-container-id-1 div.sk-estimator {font-family: monospace;background-color: #f0f8ff;border: 1px dotted black;border-radius: 0.25em;box-sizing: border-box;margin-bottom: 0.5em;}#sk-container-id-1 div.sk-estimator:hover {background-color: #d4ebff;}#sk-container-id-1 div.sk-parallel-item::after {content: \"\";width: 100%;border-bottom: 1px solid gray;flex-grow: 1;}#sk-container-id-1 div.sk-label:hover label.sk-toggleable__label {background-color: #d4ebff;}#sk-container-id-1 div.sk-serial::before {content: \"\";position: absolute;border-left: 1px solid gray;box-sizing: border-box;top: 0;bottom: 0;left: 50%;z-index: 0;}#sk-container-id-1 div.sk-serial {display: flex;flex-direction: column;align-items: center;background-color: white;padding-right: 0.2em;padding-left: 0.2em;position: relative;}#sk-container-id-1 div.sk-item {position: relative;z-index: 1;}#sk-container-id-1 div.sk-parallel {display: flex;align-items: stretch;justify-content: center;background-color: white;position: relative;}#sk-container-id-1 div.sk-item::before, #sk-container-id-1 div.sk-parallel-item::before {content: \"\";position: absolute;border-left: 1px solid gray;box-sizing: border-box;top: 0;bottom: 0;left: 50%;z-index: -1;}#sk-container-id-1 div.sk-parallel-item {display: flex;flex-direction: column;z-index: 1;position: relative;background-color: white;}#sk-container-id-1 div.sk-parallel-item:first-child::after {align-self: flex-end;width: 50%;}#sk-container-id-1 div.sk-parallel-item:last-child::after {align-self: flex-start;width: 50%;}#sk-container-id-1 div.sk-parallel-item:only-child::after {width: 0;}#sk-container-id-1 div.sk-dashed-wrapped {border: 1px dashed gray;margin: 0 0.4em 0.5em 0.4em;box-sizing: border-box;padding-bottom: 0.4em;background-color: white;}#sk-container-id-1 div.sk-label label {font-family: monospace;font-weight: bold;display: inline-block;line-height: 1.2em;}#sk-container-id-1 div.sk-label-container {text-align: center;}#sk-container-id-1 div.sk-container {/* jupyter's `normalize.less` sets `[hidden] { display: none; }` but bootstrap.min.css set `[hidden] { display: none !important; }` so we also need the `!important` here to be able to override the default hidden behavior on the sphinx rendered scikit-learn.org. See: https://github.com/scikit-learn/scikit-learn/issues/21755 */display: inline-block !important;position: relative;}#sk-container-id-1 div.sk-text-repr-fallback {display: none;}</style><div id=\"sk-container-id-1\" class=\"sk-top-container\"><div class=\"sk-text-repr-fallback\"><pre>MLPRegressor(hidden_layer_sizes=12, max_iter=500, random_state=1)</pre><b>In a Jupyter environment, please rerun this cell to show the HTML representation or trust the notebook. <br />On GitHub, the HTML representation is unable to render, please try loading this page with nbviewer.org.</b></div><div class=\"sk-container\" hidden><div class=\"sk-item\"><div class=\"sk-estimator sk-toggleable\"><input class=\"sk-toggleable__control sk-hidden--visually\" id=\"sk-estimator-id-1\" type=\"checkbox\" checked><label for=\"sk-estimator-id-1\" class=\"sk-toggleable__label sk-toggleable__label-arrow\">MLPRegressor</label><div class=\"sk-toggleable__content\"><pre>MLPRegressor(hidden_layer_sizes=12, max_iter=500, random_state=1)</pre></div></div></div></div></div>"
     },
     "execution_count": 16,
     "metadata": {},
     "output_type": "execute_result"
    }
   ],
   "source": [
    "from sklearn.neural_network import MLPRegressor\n",
    "\n",
    "clf = MLPRegressor(hidden_layer_sizes=(12), random_state=1, max_iter=500)\n",
    "clf.fit(train_df[list(filter(lambda x: x.startswith(\"c_\"), train_df.columns))], train_df[\"relative_pos\"])"
   ],
   "metadata": {
    "collapsed": false,
    "pycharm": {
     "name": "#%%\n"
    }
   }
  },
  {
   "cell_type": "code",
   "execution_count": 27,
   "outputs": [
    {
     "data": {
      "text/plain": "                                                       cell_order  \\\nnotebook_id                                                         \n0009d135ece78d  8cb8d28a ddfd239c 39e937ec 7f388a41 e25aa9bd b...   \n0010483c12ba9b  7844d5f8 4703bb6d 54c7cab3 02a0be6d fe66203e 4...   \n0010a919d60e4f  bac960d3 bd8fbd76 80433cf3 35cd0771 3f4a105f 2...   \n0028856e09c5b7                d22526d1 3ae7ece3 012c9d02 eb293dfc   \n\n                            id  \nnotebook_id                     \n0009d135ece78d  0009d135ece78d  \n0010483c12ba9b  0010483c12ba9b  \n0010a919d60e4f  0010a919d60e4f  \n0028856e09c5b7  0028856e09c5b7  ",
      "text/html": "<div>\n<style scoped>\n    .dataframe tbody tr th:only-of-type {\n        vertical-align: middle;\n    }\n\n    .dataframe tbody tr th {\n        vertical-align: top;\n    }\n\n    .dataframe thead th {\n        text-align: right;\n    }\n</style>\n<table border=\"1\" class=\"dataframe\">\n  <thead>\n    <tr style=\"text-align: right;\">\n      <th></th>\n      <th>cell_order</th>\n      <th>id</th>\n    </tr>\n    <tr>\n      <th>notebook_id</th>\n      <th></th>\n      <th></th>\n    </tr>\n  </thead>\n  <tbody>\n    <tr>\n      <th>0009d135ece78d</th>\n      <td>8cb8d28a ddfd239c 39e937ec 7f388a41 e25aa9bd b...</td>\n      <td>0009d135ece78d</td>\n    </tr>\n    <tr>\n      <th>0010483c12ba9b</th>\n      <td>7844d5f8 4703bb6d 54c7cab3 02a0be6d fe66203e 4...</td>\n      <td>0010483c12ba9b</td>\n    </tr>\n    <tr>\n      <th>0010a919d60e4f</th>\n      <td>bac960d3 bd8fbd76 80433cf3 35cd0771 3f4a105f 2...</td>\n      <td>0010a919d60e4f</td>\n    </tr>\n    <tr>\n      <th>0028856e09c5b7</th>\n      <td>d22526d1 3ae7ece3 012c9d02 eb293dfc</td>\n      <td>0028856e09c5b7</td>\n    </tr>\n  </tbody>\n</table>\n</div>"
     },
     "execution_count": 27,
     "metadata": {},
     "output_type": "execute_result"
    }
   ],
   "source": [
    "test=[]\n",
    "\n",
    "for key, notebook in test_data.items():\n",
    "    notebook_len=len(test_data[key][\"source\"].keys())\n",
    "    for cell_id in test_data[key][\"source\"].keys():\n",
    "        test.append({\"notebook_id\": key, \"notebook_length\": notebook_len, \"cell_id\": cell_id, \"source\": test_data[key][\"source\"][cell_id], \"cell_type\": test_data[key][\"cell_type\"][cell_id]})\n",
    "test_df=pd.DataFrame(test)\n",
    "for w, c in list(reversed(sorted(counts.items(), key=itemgetter(1))))[:10]:\n",
    "    test_df[\"c_\"+w]=test_df[\"source\"].apply(lambda s: 1 if w in set(s.split()) else 0)\n",
    "\n",
    "test_df[\"predicted_position\"]=clf.predict(test_df[list(filter(lambda x: x.startswith(\"c_\"), train_df.columns))])\n",
    "\n",
    "submit=test_df.sort_values([\"notebook_id\", 'predicted_position'])[[\"notebook_id\", \"cell_id\"]].groupby(\"notebook_id\").agg(lambda x: \" \".join(x))\n",
    "submit.columns=[\"cell_order\"]\n",
    "submit[\"id\"]=submit.index\n"
   ],
   "metadata": {
    "collapsed": false,
    "pycharm": {
     "name": "#%%\n"
    }
   }
  },
  {
   "cell_type": "code",
   "execution_count": 26,
   "outputs": [
    {
     "data": {
      "text/plain": "                                                          cell_id\nnotebook_id                                                      \n0009d135ece78d  8cb8d28a ddfd239c 39e937ec 7f388a41 e25aa9bd b...\n0010483c12ba9b  7844d5f8 4703bb6d 54c7cab3 02a0be6d fe66203e 4...\n0010a919d60e4f  bac960d3 bd8fbd76 80433cf3 35cd0771 3f4a105f 2...\n0028856e09c5b7                d22526d1 3ae7ece3 012c9d02 eb293dfc",
      "text/html": "<div>\n<style scoped>\n    .dataframe tbody tr th:only-of-type {\n        vertical-align: middle;\n    }\n\n    .dataframe tbody tr th {\n        vertical-align: top;\n    }\n\n    .dataframe thead th {\n        text-align: right;\n    }\n</style>\n<table border=\"1\" class=\"dataframe\">\n  <thead>\n    <tr style=\"text-align: right;\">\n      <th></th>\n      <th>cell_id</th>\n    </tr>\n    <tr>\n      <th>notebook_id</th>\n      <th></th>\n    </tr>\n  </thead>\n  <tbody>\n    <tr>\n      <th>0009d135ece78d</th>\n      <td>8cb8d28a ddfd239c 39e937ec 7f388a41 e25aa9bd b...</td>\n    </tr>\n    <tr>\n      <th>0010483c12ba9b</th>\n      <td>7844d5f8 4703bb6d 54c7cab3 02a0be6d fe66203e 4...</td>\n    </tr>\n    <tr>\n      <th>0010a919d60e4f</th>\n      <td>bac960d3 bd8fbd76 80433cf3 35cd0771 3f4a105f 2...</td>\n    </tr>\n    <tr>\n      <th>0028856e09c5b7</th>\n      <td>d22526d1 3ae7ece3 012c9d02 eb293dfc</td>\n    </tr>\n  </tbody>\n</table>\n</div>"
     },
     "execution_count": 26,
     "metadata": {},
     "output_type": "execute_result"
    }
   ],
   "source": [
    "submit"
   ],
   "metadata": {
    "collapsed": false,
    "pycharm": {
     "name": "#%%\n"
    }
   }
  },
  {
   "cell_type": "code",
   "execution_count": null,
   "outputs": [],
   "source": [],
   "metadata": {
    "collapsed": false,
    "pycharm": {
     "name": "#%%\n"
    }
   }
  }
 ],
 "metadata": {
  "kernelspec": {
   "display_name": "Python 3 (ipykernel)",
   "language": "python",
   "name": "python3"
  },
  "language_info": {
   "codemirror_mode": {
    "name": "ipython",
    "version": 3
   },
   "file_extension": ".py",
   "mimetype": "text/x-python",
   "name": "python",
   "nbconvert_exporter": "python",
   "pygments_lexer": "ipython3",
   "version": "3.8.10"
  }
 },
 "nbformat": 4,
 "nbformat_minor": 5
}